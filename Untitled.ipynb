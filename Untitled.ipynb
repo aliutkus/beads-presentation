{
 "cells": [
  {
   "cell_type": "code",
   "execution_count": 6,
   "metadata": {
    "nbpresent": {
     "id": "4dbc3f65-de11-4133-aa49-d8a165f85e26"
    }
   },
   "outputs": [
    {
     "name": "stdout",
     "output_type": "stream",
     "text": [
      "None\n"
     ]
    }
   ],
   "source": [
    "import os.path\n",
    "from jupyter_core.paths import jupyter_path\n",
    "\n",
    "def find_extension(ext_path):\n",
    "    for base in jupyter_path():\n",
    "        curr_path = os.path.join(base, 'nbextensions', ext_path)\n",
    "        if os.path.exists(curr_path):\n",
    "            print('found extension at {!r}'.format(curr_path))\n",
    "\n",
    "print(find_extension('config/main.js'))\n"
   ]
  },
  {
   "cell_type": "code",
   "execution_count": null,
   "metadata": {
    "nbpresent": {
     "id": "9f0f21be-9f66-4253-a8e8-b07ce97f7bee"
    }
   },
   "outputs": [],
   "source": []
  }
 ],
 "metadata": {
  "kernelspec": {
   "display_name": "Python [conda env:beads-presentation]",
   "language": "python",
   "name": "conda-env-beads-presentation-py"
  },
  "language_info": {
   "codemirror_mode": {
    "name": "ipython",
    "version": 3
   },
   "file_extension": ".py",
   "mimetype": "text/x-python",
   "name": "python",
   "nbconvert_exporter": "python",
   "pygments_lexer": "ipython3",
   "version": "3.6.4"
  },
  "nbpresent": {
   "slides": {
    "2f91feea-6d03-4359-9181-8e8f36c69184": {
     "id": "2f91feea-6d03-4359-9181-8e8f36c69184",
     "prev": null,
     "regions": {
      "67924adc-dae0-47d8-b06f-fbc38707d483": {
       "attrs": {
        "height": 0.8,
        "width": 0.8,
        "x": 0.1,
        "y": 0.1
       },
       "content": {
        "cell": "4dbc3f65-de11-4133-aa49-d8a165f85e26",
        "part": "whole"
       },
       "id": "67924adc-dae0-47d8-b06f-fbc38707d483"
      }
     }
    },
    "79f4bf9b-1fff-411a-810c-c62b68e02e44": {
     "id": "79f4bf9b-1fff-411a-810c-c62b68e02e44",
     "prev": "ef99394f-de25-4416-b882-cfeb8a2a8448",
     "regions": {
      "c5d6af25-5133-4b32-bfd3-142e5669ed36": {
       "attrs": {
        "height": 0.8,
        "width": 0.8,
        "x": 0.1,
        "y": 0.1
       },
       "content": null,
       "id": "c5d6af25-5133-4b32-bfd3-142e5669ed36"
      }
     }
    },
    "ef99394f-de25-4416-b882-cfeb8a2a8448": {
     "id": "ef99394f-de25-4416-b882-cfeb8a2a8448",
     "prev": null,
     "regions": {
      "d30989c3-7b06-404c-b13f-08a5efc90cab": {
       "attrs": {
        "height": 0.8,
        "width": 0.8,
        "x": 0.1,
        "y": 0.1
       },
       "content": {
        "cell": "4dbc3f65-de11-4133-aa49-d8a165f85e26",
        "part": "whole"
       },
       "id": "d30989c3-7b06-404c-b13f-08a5efc90cab"
      }
     }
    },
    "fec4c356-5581-4841-b036-a7bd775766fe": {
     "id": "fec4c356-5581-4841-b036-a7bd775766fe",
     "prev": "2f91feea-6d03-4359-9181-8e8f36c69184",
     "regions": {
      "f054da3b-51de-48de-8ca4-21932e9a4381": {
       "attrs": {
        "height": 0.8,
        "width": 0.8,
        "x": 0.1,
        "y": 0.1
       },
       "content": {
        "cell": "9f0f21be-9f66-4253-a8e8-b07ce97f7bee",
        "part": "whole"
       },
       "id": "f054da3b-51de-48de-8ca4-21932e9a4381"
      }
     }
    }
   },
   "themes": {}
  }
 },
 "nbformat": 4,
 "nbformat_minor": 2
}
