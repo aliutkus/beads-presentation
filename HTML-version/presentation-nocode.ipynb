{
 "cells": [
  {
   "cell_type": "markdown",
   "metadata": {
    "hide_input": false,
    "slideshow": {
     "slide_type": "slide"
    }
   },
   "source": [
    "# Audio source separation with magnitude priors: the BEADS model \n",
    "\n",
    "## Antoine Liutkus$^1$, Christian Rohlfing$^2$, Antoine Deleforge$^3$\n",
    "\n",
    "$^1$ Zenith team, Inria, University of Montpellier, France<p>\n",
    "$^2$ RWTH, Aachen University, Germany<p>\n",
    "$^3$ Inria Rennes - Bretagne Atlantique, France<p>\n",
    "\n",
    "<img src=\"figures/logos.svg\" style=\"height:5em; margin-top:5em\">"
   ]
  },
  {
   "cell_type": "markdown",
   "metadata": {
    "slideshow": {
     "slide_type": "slide"
    }
   },
   "source": [
    "# Context\n",
    "\n",
    "## Separation of complex random variables"
   ]
  },
  {
   "cell_type": "markdown",
   "metadata": {
    "slideshow": {
     "slide_type": "slide"
    }
   },
   "source": [
    "# The source separation problem \n",
    "For each Time-Frequency bin, the mixture is the sum of sources $x=\\sum_j s_j$\n",
    "<img src=\"figures/nocode/fig_sources1.svg\">"
   ]
  },
  {
   "cell_type": "markdown",
   "metadata": {
    "slideshow": {
     "slide_type": "slide"
    }
   },
   "source": [
    "# The source separation problem \n",
    "For each Time-Frequency bin, the mixture is the sum of sources $x=\\sum_j s_j$\n",
    "<img src=\"figures/nocode/fig_sources2.svg\">"
   ]
  },
  {
   "cell_type": "markdown",
   "metadata": {
    "slideshow": {
     "slide_type": "slide"
    }
   },
   "source": [
    "# Typical separation pipeline\n",
    "\n",
    "<img src=\"figures/source_separation_pipeline.svg\" style=\"height:10em\">\n",
    "\n",
    "## In this talk\n",
    "* __Filtering__ from magnitude estimates $b_j>0$ to separated signals $s_j\\in\\mathbb{C}$ \n",
    "* Tractable model for __complex variables $s_j$ with (approximately) known magnitude $b_j$__\n",
    "\n",
    "\n",
    "## In the paper\n",
    "* The multichannel case\n",
    "* Evaluation for audio coding"
   ]
  },
  {
   "cell_type": "markdown",
   "metadata": {
    "slideshow": {
     "slide_type": "slide"
    }
   },
   "source": [
    "The classical Gaussian model $s_j\\sim\\mathcal{N}\\left(0, \\frac{2}{\\pi}b_j^2\\right)$ matches the prior $\\mathbb{E}\\left[\\left|s_j\\right|\\right]=b_j$\n",
    "\n",
    "<img src=\"figures/nocode/fig_lgm.svg\">"
   ]
  },
  {
   "cell_type": "markdown",
   "metadata": {
    "slideshow": {
     "slide_type": "fragment"
    }
   },
   "source": [
    "$\\Rightarrow$ Highest probability mass on 0"
   ]
  },
  {
   "cell_type": "markdown",
   "metadata": {
    "slideshow": {
     "slide_type": "slide"
    }
   },
   "source": [
    "The mixture is Gaussian $x\\sim\\mathcal{N}\\left(0,\\sum_j b_j^2\\right)$, sources are recovered as: $s\\mid x\\sim \\mathcal{N}\\left(\\frac{b^2_j}{\\sum b^2} x, \\sigma_j^2\\left(1 - \\frac{b_j^2}{\\sum b^2}\\right)\\right)$\n",
    "<img src=\"figures/nocode/fig_lgmdemo1.svg\">"
   ]
  },
  {
   "cell_type": "markdown",
   "metadata": {
    "slideshow": {
     "slide_type": "slide"
    }
   },
   "source": [
    "The mixture is Gaussian $x\\sim\\mathcal{N}\\left(0,\\sum_j \\sigma_j\\right)$, sources are recovered as: $s\\mid x\\sim \\mathcal{N}\\left(\\frac{\\sigma_j}{\\sum \\sigma} x, \\sigma_j - \\frac{\\sigma_j^2}{\\sum \\sigma}\\right)$\n",
    "<img src=\"figures/nocode/fig_lgmdemo2.svg\">"
   ]
  },
  {
   "cell_type": "markdown",
   "metadata": {
    "slideshow": {
     "slide_type": "slide"
    }
   },
   "source": [
    "The mixture is Gaussian $x\\sim\\mathcal{N}\\left(0,\\sum_j b_j^2\\right)$, sources are recovered as: $s\\mid x\\sim \\mathcal{N}\\left(\\frac{b^2_j}{\\sum b^2} x, \\sigma_j^2\\left(1 - \\frac{b_j^2}{\\sum b^2}\\right)\\right)$\n",
    "<img src=\"figures/nocode/fig_lgmdemo3.svg\">"
   ]
  },
  {
   "cell_type": "markdown",
   "metadata": {
    "slideshow": {
     "slide_type": "slide"
    }
   },
   "source": [
    "The mixture is Gaussian $x\\sim\\mathcal{N}\\left(0,\\sum_j \\sigma_j\\right)$, sources are recovered as: $s\\mid x\\sim \\mathcal{N}\\left(\\frac{\\sigma_j}{\\sum \\sigma} x, \\sigma_j - \\frac{\\sigma_j^2}{\\sum \\sigma}\\right)$\n",
    "<img src=\"figures/nocode/fig_lgmdemo4.svg\">\n",
    "$\\Rightarrow$ Aligned estimated sources, magnitudes inconsistent with prior<p>\n",
    "$\\Rightarrow$ Uncertainty independent of the mixture"
   ]
  },
  {
   "cell_type": "markdown",
   "metadata": {
    "slideshow": {
     "slide_type": "slide"
    }
   },
   "source": [
    "Another classical solution: magnitude ratios:\n",
    "$\\hat{s}_j=\\frac{b_j}{\\sum b}x$\n",
    "<img src=\"figures/nocode/fig_magdemo1.svg\">"
   ]
  },
  {
   "cell_type": "markdown",
   "metadata": {
    "slideshow": {
     "slide_type": "slide"
    }
   },
   "source": [
    "Another classical solution: magnitude ratios:\n",
    "$\\hat{s}_j=\\frac{b_j}{\\sum b}x$\n",
    "<img src=\"figures/nocode/fig_magdemo2.svg\">"
   ]
  },
  {
   "cell_type": "markdown",
   "metadata": {
    "slideshow": {
     "slide_type": "slide"
    }
   },
   "source": [
    "Another classical solution: magnitude ratios:\n",
    "$\\hat{s}_j=\\frac{b_j}{\\sum b}x$\n",
    "<img src=\"figures/nocode/fig_magdemo3.svg\">"
   ]
  },
  {
   "cell_type": "markdown",
   "metadata": {
    "slideshow": {
     "slide_type": "slide"
    }
   },
   "source": [
    "Another classical solution: magnitude ratios:\n",
    "$\\hat{s}_j=\\frac{b_j}{\\sum b}x$\n",
    "<img src=\"figures/nocode/fig_magdemo4.svg\">"
   ]
  },
  {
   "cell_type": "markdown",
   "metadata": {
    "slideshow": {
     "slide_type": "fragment"
    }
   },
   "source": [
    "$\\Rightarrow$ Still estimating aligned sources rather than complying with the magnitude prior<p>\n",
    "$\\Rightarrow$ No tractable uncertainty "
   ]
  },
  {
   "cell_type": "markdown",
   "metadata": {
    "slideshow": {
     "slide_type": "slide"
    }
   },
   "source": [
    "# An ideal model\n",
    "\n",
    "## The donut-shaped distribution"
   ]
  },
  {
   "cell_type": "markdown",
   "metadata": {
    "slideshow": {
     "slide_type": "slide"
    }
   },
   "source": [
    "## Objective\n",
    "What do we want of a probabilistic model for a complex random variable with (approximately) known magnitude?\n",
    "<img src=\"figures/nocode/fig_donut1.svg\">"
   ]
  },
  {
   "cell_type": "markdown",
   "metadata": {
    "slideshow": {
     "slide_type": "slide"
    }
   },
   "source": [
    "## Objective\n",
    "What do we want of a probabilistic model for a complex random variable with (approximately) known magnitude?\n",
    "<img src=\"figures/nocode/fig_donut2.svg\">"
   ]
  },
  {
   "cell_type": "markdown",
   "metadata": {
    "slideshow": {
     "slide_type": "slide"
    }
   },
   "source": [
    "## Objective\n",
    "What do we want of a probabilistic model for a complex random variable with (approximately) known magnitude?\n",
    "<img src=\"figures/nocode/fig_donut3.svg\">"
   ]
  },
  {
   "cell_type": "markdown",
   "metadata": {
    "slideshow": {
     "slide_type": "slide"
    }
   },
   "source": [
    "## The Donut distribution for modeling the sources\n",
    "<img src=\"figures/nocode/fig_sourcesdonut.svg\">"
   ]
  },
  {
   "cell_type": "markdown",
   "metadata": {
    "hide_input": true,
    "slideshow": {
     "slide_type": "fragment"
    }
   },
   "source": [
    "$\\Rightarrow$ No model for the sum of donut variables<p>\n",
    "$\\Rightarrow$ No easy way for separation: $\\mathbb{P}\\left[s\\mid x\\right]$ non tractable"
   ]
  },
  {
   "cell_type": "markdown",
   "metadata": {
    "slideshow": {
     "slide_type": "slide"
    }
   },
   "source": [
    "# Contribution\n",
    "## **BEADS** Bayesian Expansion to Approximate the Donut Shape\n",
    "<img src=\"figures/nocode/fig_beadsintro1.svg\">\n",
    "Sources distribution as a Gaussian Mixture Model: $P\\left[s_j\\right] = \\sum_c \\pi[c] \\mathcal{N}\\left(s_j\\mid b_j \\omega^c, \\sigma_j\\right)$<p>\n",
    "$\\Rightarrow$ Only two parameters: $b_j$ and $\\sigma_j$"
   ]
  },
  {
   "cell_type": "markdown",
   "metadata": {
    "slideshow": {
     "slide_type": "slide"
    }
   },
   "source": [
    "# Contribution\n",
    "## **BEADS** Bayesian Expansion to Approximate the Donut Shape\n",
    "<img src=\"figures/nocode/fig_beadsintro2.svg\">\n",
    "Sources distribution as a Gaussian Mixture Model: $P\\left[s_j\\right] = \\sum_c \\pi[c] \\mathcal{N}\\left(s_j\\mid b_j \\omega^c, \\sigma_j\\right)$<p>\n",
    "$\\Rightarrow$ Only two parameters: $b_j$ and $\\sigma_j$"
   ]
  },
  {
   "cell_type": "markdown",
   "metadata": {
    "slideshow": {
     "slide_type": "slide"
    }
   },
   "source": [
    "# Contribution\n",
    "## **BEADS** Bayesian Expansion to Approximate the Donut Shape\n",
    "<img src=\"figures/nocode/fig_beadsintro3.svg\">\n",
    "Sources distribution as a Gaussian Mixture Model: $P\\left[s_j\\right] = \\sum_c \\pi[c] \\mathcal{N}\\left(s_j\\mid b_j \\omega^c, \\sigma_j\\right)$<p>\n",
    "$\\Rightarrow$ Only two parameters: $b_j$ and $\\sigma_j$"
   ]
  },
  {
   "cell_type": "markdown",
   "metadata": {
    "slideshow": {
     "slide_type": "slide"
    }
   },
   "source": [
    "# Contribution\n",
    "## **BEADS** Bayesian Expansion to Approximate the Donut Shape\n",
    "<img src=\"figures/nocode/fig_beadsintro4.svg\">\n",
    "Sources distribution as a Gaussian Mixture Model: $P\\left[s_j\\right] = \\sum_c \\pi[c] \\mathcal{N}\\left(s_j\\mid b_j \\omega^c, \\sigma_j\\right)$<p>\n",
    "$\\Rightarrow$ Only two parameters: $b_j$ and $\\sigma_j$"
   ]
  },
  {
   "cell_type": "markdown",
   "metadata": {
    "slideshow": {
     "slide_type": "slide"
    }
   },
   "source": [
    "# Contribution\n",
    "## **BEADS** Bayesian Expansion to Approximate the Donut Shape\n",
    "<img src=\"figures/nocode/fig_beadsintro5.svg\">\n",
    "Sources distribution as a Gaussian Mixture Model: $P\\left[s_j\\right] = \\sum_c \\pi[c] \\mathcal{N}\\left(s_j\\mid b_j \\omega^c, \\sigma_j\\right)$<p>\n",
    "$\\Rightarrow$ Only two parameters: $b_j$ and $\\sigma_j$"
   ]
  },
  {
   "cell_type": "markdown",
   "metadata": {
    "hide_input": true,
    "slideshow": {
     "slide_type": "slide"
    }
   },
   "source": [
    "## Summing beads random variables\n",
    "BEADS model for the sources $\\Rightarrow$ Gaussian Mixture Model for the mixture\n",
    "<img src=\"figures/nocode/fig_beadssources1.svg\">"
   ]
  },
  {
   "cell_type": "markdown",
   "metadata": {
    "hide_input": true,
    "slideshow": {
     "slide_type": "slide"
    }
   },
   "source": [
    "## Summing beads random variables\n",
    "BEADS model for the sources $\\Rightarrow$ Gaussian Mixture Model for the mixture\n",
    "<img src=\"figures/nocode/fig_beadssources2.svg\">"
   ]
  },
  {
   "cell_type": "markdown",
   "metadata": {
    "hide_input": true,
    "slideshow": {
     "slide_type": "slide"
    }
   },
   "source": [
    "## Summing beads random variables\n",
    "BEADS model for the sources $\\Rightarrow$ Gaussian Mixture Model for the mixture\n",
    "<img src=\"figures/nocode/fig_beadssources3.svg\">"
   ]
  },
  {
   "cell_type": "markdown",
   "metadata": {
    "hide_input": true,
    "slideshow": {
     "slide_type": "slide"
    }
   },
   "source": [
    "The sources are estimated through Bayes theorem as $s\\mid x=\\sum_c \\pi(c\\mid x)\\mathcal{N}(s\\mid \\mu_{c\\mid x}, \\sigma_{\\mid x})$\n",
    "<img src=\"figures/nocode/fig_beadsdemo1.svg\">"
   ]
  },
  {
   "cell_type": "markdown",
   "metadata": {
    "hide_input": true,
    "slideshow": {
     "slide_type": "slide"
    }
   },
   "source": [
    "The sources are estimated through Bayes theorem as $s\\mid x=\\sum_c \\pi(c\\mid x)\\mathcal{N}(s\\mid \\mu_{c\\mid x}, \\sigma_{\\mid x})$\n",
    "<img src=\"figures/nocode/fig_beadsdemo2.svg\">\n",
    "$\\Rightarrow$ Posterior is tractable, estimates consistent with the magnitude prior<p>\n",
    "$\\Rightarrow$ Uncertainty is mix-dependent<p>"
   ]
  },
  {
   "cell_type": "markdown",
   "metadata": {
    "hide_input": true,
    "slideshow": {
     "slide_type": "slide"
    }
   },
   "source": [
    "The sources are estimated through Bayes theorem as $s\\mid x=\\sum_c \\pi(c\\mid x)\\mathcal{N}(s\\mid \\mu_{c\\mid x}, \\sigma_{\\mid x})$\n",
    "<img src=\"figures/nocode/fig_beadsdemo3.svg\">\n",
    "$\\Rightarrow$ Posterior is tractable, estimates consistent with the magnitude prior<p>\n",
    "$\\Rightarrow$ Uncertainty is mix-dependent<p>"
   ]
  },
  {
   "cell_type": "markdown",
   "metadata": {
    "hide_input": true,
    "slideshow": {
     "slide_type": "slide"
    }
   },
   "source": [
    "The sources are estimated through Bayes theorem as $s\\mid x=\\sum_c \\pi(c\\mid x)\\mathcal{N}(s\\mid \\mu_{c\\mid x}, \\sigma_{\\mid x})$\n",
    "<img src=\"figures/nocode/fig_beadsdemo4.svg\">\n",
    "$\\Rightarrow$ Posterior is tractable, estimates consistent with the magnitude prior<p>\n",
    "$\\Rightarrow$ Uncertainty is mix-dependent<p>"
   ]
  },
  {
   "cell_type": "markdown",
   "metadata": {
    "slideshow": {
     "slide_type": "slide"
    }
   },
   "source": [
    "# Conclusion: The beads model\n",
    "\n",
    "## Core advantages\n",
    "* Complex random variables with approximately known magnitudes\n",
    "* Sums of beads sources is a GMM\n",
    "* Separation is easy as GMM inference\n",
    "\n",
    "## To go further\n",
    "* Generalizes easily to multichannel\n",
    "* Shared variances for the beads $\\Rightarrow$ computational savings\n",
    "\n",
    "## Source code for this presentation\n",
    "[https://github.com/aliutkus/beads-presentation](https://github.com/aliutkus/beads-presentation)"
   ]
  }
 ],
 "metadata": {
  "celltoolbar": "Slideshow",
  "kernelspec": {
   "display_name": "Python [conda env:beads-presentation]",
   "language": "python",
   "name": "conda-env-beads-presentation-py"
  },
  "language_info": {
   "codemirror_mode": {
    "name": "ipython",
    "version": 3
   },
   "file_extension": ".py",
   "mimetype": "text/x-python",
   "name": "python",
   "nbconvert_exporter": "python",
   "pygments_lexer": "ipython3",
   "version": "3.6.4"
  },
  "livereveal": {
   "auto_select": "code",
   "center": false,
   "controls": false,
   "theme": "serif",
   "transition": "none"
  }
 },
 "nbformat": 4,
 "nbformat_minor": 2
}
