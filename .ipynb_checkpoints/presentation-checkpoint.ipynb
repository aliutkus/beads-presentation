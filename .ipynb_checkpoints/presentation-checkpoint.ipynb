{
 "cells": [
  {
   "cell_type": "code",
   "execution_count": null,
   "metadata": {},
   "outputs": [],
   "source": [
    "#%load_ext autoreload\n",
    "#%autoreload 2\n",
    "import matplotlib as mpl\n",
    "mpl.rcParams['figure.figsize'] = (9,7)\n",
    "#mpl.use('nbAgg')\n",
    "\n",
    "from matplotlib import pyplot as plt\n",
    "%matplotlib notebook\n",
    "#%matplotlib inline\n",
    "import ipywidgets\n"
   ]
  },
  {
   "cell_type": "code",
   "execution_count": null,
   "metadata": {},
   "outputs": [],
   "source": [
    "#pylab.rcParams['figure.figsize'] = (20, 15)\n",
    "from src.beads import *\n",
    "canvas = Canvas(-20,20,100)"
   ]
  },
  {
   "cell_type": "code",
   "execution_count": null,
   "metadata": {
    "scrolled": false
   },
   "outputs": [],
   "source": [
    "a = Donut(-5,3,1)\n",
    "b = Beads(5,3,1,8)\n",
    "canvas.clear()\n",
    "canvas+=a\n",
    "canvas+=b\n",
    "\n",
    "fig, ax = plt.subplots(1,1)\n",
    "canvas.plot(ax, nlines = 10)\n",
    "plt.show()"
   ]
  },
  {
   "cell_type": "code",
   "execution_count": 16,
   "metadata": {
    "scrolled": false
   },
   "outputs": [
    {
     "data": {
      "image/png": "[encoded data removed]",
      "text/plain": [
       "<Figure size 432x288 with 1 Axes>"
      ]
     },
     "metadata": {},
     "output_type": "display_data"
    }
   ],
   "source": [
    "bs = [8, 4, 2]\n",
    "sigmas = [4,1,0.1]\n",
    "cs = [15, 15, 15]\n",
    "colors = ['Greens', 'Blues', 'Reds']\n",
    "\n",
    "sources = [Beads(0,b,sigma,c) for (b,sigma,c) in zip(bs,sigmas,cs)]\n",
    "\n",
    "fig = plt.figure(); ax = fig.add_subplot(111)\n",
    "for (s, color) in zip(sources, colors):\n",
    "    s.plot(canvas, ax, color, nlines=10)\n",
    "\n",
    "plt.show()"
   ]
  },
  {
   "cell_type": "code",
   "execution_count": 17,
   "metadata": {
    "scrolled": false
   },
   "outputs": [
    {
     "ename": "KeyboardInterrupt",
     "evalue": "",
     "output_type": "error",
     "traceback": [
      "\u001b[0;31m---------------------------------------------------------------------------\u001b[0m",
      "\u001b[0;31mKeyboardInterrupt\u001b[0m                         Traceback (most recent call last)",
      "\u001b[0;32m<ipython-input-17-b1cacccf111b>\u001b[0m in \u001b[0;36m<module>\u001b[0;34m()\u001b[0m\n\u001b[1;32m      1\u001b[0m \u001b[0mmix\u001b[0m \u001b[0;34m=\u001b[0m \u001b[0;32mNone\u001b[0m\u001b[0;34m\u001b[0m\u001b[0m\n\u001b[1;32m      2\u001b[0m \u001b[0;32mfor\u001b[0m \u001b[0msource\u001b[0m \u001b[0;32min\u001b[0m \u001b[0msources\u001b[0m\u001b[0;34m:\u001b[0m\u001b[0;34m\u001b[0m\u001b[0m\n\u001b[0;32m----> 3\u001b[0;31m     \u001b[0mmix\u001b[0m \u001b[0;34m*=\u001b[0m \u001b[0msource\u001b[0m\u001b[0;34m\u001b[0m\u001b[0m\n\u001b[0m\u001b[1;32m      4\u001b[0m \u001b[0mplt\u001b[0m\u001b[0;34m.\u001b[0m\u001b[0mfigure\u001b[0m\u001b[0;34m(\u001b[0m\u001b[0;34m)\u001b[0m\u001b[0;34m\u001b[0m\u001b[0m\n\u001b[1;32m      5\u001b[0m \u001b[0mmix\u001b[0m\u001b[0;34m.\u001b[0m\u001b[0mplot\u001b[0m\u001b[0;34m(\u001b[0m\u001b[0mcanvas\u001b[0m\u001b[0;34m,\u001b[0m \u001b[0mcolors\u001b[0m \u001b[0;34m=\u001b[0m \u001b[0;34m\"Greens\"\u001b[0m\u001b[0;34m,\u001b[0m \u001b[0mnlines\u001b[0m\u001b[0;34m=\u001b[0m\u001b[0;36m40\u001b[0m\u001b[0;34m)\u001b[0m\u001b[0;34m\u001b[0m\u001b[0m\n",
      "\u001b[0;32m~/repositories/beads-presentation/src/beads.py\u001b[0m in \u001b[0;36m__mul__\u001b[0;34m(self, other)\u001b[0m\n\u001b[1;32m    199\u001b[0m         \u001b[0;32mfor\u001b[0m \u001b[0ma\u001b[0m\u001b[0;34m,\u001b[0m \u001b[0mb\u001b[0m \u001b[0;32min\u001b[0m \u001b[0mproduct\u001b[0m\u001b[0;34m(\u001b[0m\u001b[0mself\u001b[0m\u001b[0;34m.\u001b[0m\u001b[0mcomponents\u001b[0m\u001b[0;34m,\u001b[0m \u001b[0mother\u001b[0m\u001b[0;34m.\u001b[0m\u001b[0mcomponents\u001b[0m\u001b[0;34m)\u001b[0m\u001b[0;34m:\u001b[0m\u001b[0;34m\u001b[0m\u001b[0m\n\u001b[1;32m    200\u001b[0m             \u001b[0mreferences\u001b[0m \u001b[0;34m=\u001b[0m \u001b[0mflatten\u001b[0m\u001b[0;34m(\u001b[0m\u001b[0ma\u001b[0m\u001b[0;34m,\u001b[0m \u001b[0mb\u001b[0m\u001b[0;34m,\u001b[0m \u001b[0;34m\"references\"\u001b[0m\u001b[0;34m)\u001b[0m\u001b[0;34m\u001b[0m\u001b[0m\n\u001b[0;32m--> 201\u001b[0;31m             \u001b[0mresult\u001b[0m \u001b[0;34m+=\u001b[0m \u001b[0mBead\u001b[0m\u001b[0;34m.\u001b[0m\u001b[0mfromBeads\u001b[0m\u001b[0;34m(\u001b[0m\u001b[0mreferences\u001b[0m\u001b[0;34m)\u001b[0m\u001b[0;34m\u001b[0m\u001b[0m\n\u001b[0m\u001b[1;32m    202\u001b[0m         \u001b[0;32mreturn\u001b[0m \u001b[0mresult\u001b[0m\u001b[0;34m\u001b[0m\u001b[0m\n\u001b[1;32m    203\u001b[0m \u001b[0;34m\u001b[0m\u001b[0m\n",
      "\u001b[0;32m~/repositories/beads-presentation/src/beads.py\u001b[0m in \u001b[0;36mfromBeads\u001b[0;34m(references)\u001b[0m\n\u001b[1;32m     83\u001b[0m         \u001b[0mmean\u001b[0m \u001b[0;34m=\u001b[0m \u001b[0msum\u001b[0m\u001b[0;34m(\u001b[0m\u001b[0;34m[\u001b[0m\u001b[0mref\u001b[0m\u001b[0;34m.\u001b[0m\u001b[0mmu\u001b[0m \u001b[0;32mfor\u001b[0m \u001b[0mref\u001b[0m \u001b[0;32min\u001b[0m \u001b[0mreferences\u001b[0m\u001b[0;34m]\u001b[0m\u001b[0;34m)\u001b[0m\u001b[0;34m\u001b[0m\u001b[0m\n\u001b[1;32m     84\u001b[0m         \u001b[0msigma\u001b[0m \u001b[0;34m=\u001b[0m \u001b[0msum\u001b[0m\u001b[0;34m(\u001b[0m\u001b[0;34m[\u001b[0m\u001b[0mref\u001b[0m\u001b[0;34m.\u001b[0m\u001b[0msigma\u001b[0m \u001b[0;32mfor\u001b[0m \u001b[0mref\u001b[0m \u001b[0;32min\u001b[0m \u001b[0mreferences\u001b[0m\u001b[0;34m]\u001b[0m\u001b[0;34m)\u001b[0m\u001b[0;34m\u001b[0m\u001b[0m\n\u001b[0;32m---> 85\u001b[0;31m         \u001b[0mresult\u001b[0m \u001b[0;34m=\u001b[0m \u001b[0mBead\u001b[0m\u001b[0;34m(\u001b[0m\u001b[0mmean\u001b[0m\u001b[0;34m,\u001b[0m \u001b[0msigma\u001b[0m\u001b[0;34m)\u001b[0m\u001b[0;34m\u001b[0m\u001b[0m\n\u001b[0m\u001b[1;32m     86\u001b[0m         \u001b[0mresult\u001b[0m\u001b[0;34m.\u001b[0m\u001b[0mreferences\u001b[0m \u001b[0;34m=\u001b[0m \u001b[0mreferences\u001b[0m\u001b[0;34m\u001b[0m\u001b[0m\n\u001b[1;32m     87\u001b[0m         \u001b[0;32mreturn\u001b[0m \u001b[0mresult\u001b[0m\u001b[0;34m\u001b[0m\u001b[0m\n",
      "\u001b[0;32m~/repositories/beads-presentation/src/beads.py\u001b[0m in \u001b[0;36m__init__\u001b[0;34m(self, mu, sigma)\u001b[0m\n\u001b[1;32m     65\u001b[0m \u001b[0;34m\u001b[0m\u001b[0m\n\u001b[1;32m     66\u001b[0m     A Bead object is a simple complex isotropic Gaussian.\"\"\"\n\u001b[0;32m---> 67\u001b[0;31m     \u001b[0;32mdef\u001b[0m \u001b[0m__init__\u001b[0m\u001b[0;34m(\u001b[0m\u001b[0mself\u001b[0m\u001b[0;34m,\u001b[0m \u001b[0mmu\u001b[0m\u001b[0;34m,\u001b[0m \u001b[0msigma\u001b[0m\u001b[0;34m)\u001b[0m\u001b[0;34m:\u001b[0m\u001b[0;34m\u001b[0m\u001b[0m\n\u001b[0m\u001b[1;32m     68\u001b[0m         \u001b[0msuper\u001b[0m\u001b[0;34m(\u001b[0m\u001b[0;34m)\u001b[0m\u001b[0;34m.\u001b[0m\u001b[0m__init__\u001b[0m\u001b[0;34m(\u001b[0m\u001b[0;34m)\u001b[0m\u001b[0;34m\u001b[0m\u001b[0m\n\u001b[1;32m     69\u001b[0m         \u001b[0mself\u001b[0m\u001b[0;34m.\u001b[0m\u001b[0mmu\u001b[0m \u001b[0;34m=\u001b[0m \u001b[0mmu\u001b[0m\u001b[0;34m\u001b[0m\u001b[0m\n",
      "\u001b[0;31mKeyboardInterrupt\u001b[0m: "
     ]
    }
   ],
   "source": [
    "mix = None\n",
    "for source in sources:\n",
    "    mix *= source\n",
    "plt.figure()\n",
    "mix.plot(canvas, colors = \"Greens\", nlines=40)\n",
    "plt.show()"
   ]
  },
  {
   "cell_type": "code",
   "execution_count": null,
   "metadata": {},
   "outputs": [],
   "source": [
    "%matplotlib notebook\n",
    "import numpy as np\n",
    "import matplotlib.pyplot as plt\n",
    "fig = plt.figure()\n",
    "ax = fig.add_subplot(111)\n",
    "\n",
    "for (s, color) in zip(sources, colors):\n",
    "    s.plot(canvas, plt.gca(), color, nlines=10)\n",
    "\n",
    "def onclick(event):\n",
    "    x = event.xdata+1j*event.ydata\n",
    "    post = [s.post(mix,x) for s in sources]\n",
    "\n",
    "    ax.clear()\n",
    "    for (s, color) in zip(sources, colors):\n",
    "        s.plot(canvas, ax, \"Greys\", nlines=10, alpha=0.1)\n",
    "    for (s, color) in zip(post, colors):\n",
    "        s.plot(canvas, ax, color, nlines=10)\n",
    "    ax.arrow(0, 0, np.real(x), np.imag(x), head_width=1, head_length=1)\n",
    "    plt.draw()\n",
    "    \n",
    "    \n",
    "cid = fig.canvas.mpl_connect('button_press_event', onclick)"
   ]
  },
  {
   "cell_type": "code",
   "execution_count": null,
   "metadata": {},
   "outputs": [],
   "source": [
    "sources_LGM = []\n",
    "for (b,sigma,c) in zip(bs,sigmas,cs)\n",
    "    \n",
    "for (s, color) in zip(sources, colors):\n",
    "    s.plot(canvas, plt.gca(), color, nlines=10)\n",
    "plt.show()\n",
    "\n",
    "\n",
    "plt.figure()\n",
    "mix_LGM.plot(canvas, colors = \"Greens\", nlines=40)\n",
    "plt.show()"
   ]
  },
  {
   "cell_type": "code",
   "execution_count": null,
   "metadata": {},
   "outputs": [],
   "source": []
  },
  {
   "cell_type": "markdown",
   "metadata": {
    "hide_input": true,
    "nbpresent": {
     "id": "e332e812-b886-4b34-b568-c514b2dd972c"
    },
    "slideshow": {
     "slide_type": "slide"
    }
   },
   "source": [
    "# Audio source separation with magnitude priors: the BEADS model \n",
    "\n",
    "## Antoine Liutkus$^1$, Christian Rohlfing$^2$, Antoine Deleforge$^3$\n",
    "\n",
    "$^1$ Zenith team, Inria, University of Montpellier, France<p>\n",
    "$^2$ RWTH, Aachen University, Germany<p>\n",
    "$^3$ Inria Rennes - Bretagne Atlantique, France<p>\n",
    "\n",
    "<div class=\"inline-block\">\n",
    "    <img src=\"figures/zenith.jpg\" style=\"height:3em; margin-top:5em\">\n",
    "</div>\n",
    "<div class=\"inline-block\">\n",
    "    <img src =\"figures/inria.png\" style=\"height:3em\">\n",
    "</div>\n",
    "<div class=\"inline-block\">\n",
    "    <img src=\"figures/rwth.svg\" style=\"height:3em\">\n",
    "</div>\n",
    "<div class=\"inline-block\">\n",
    "    <img src=\"figures/anr.png\" style=\"height:3em\">\n",
    "</div>\n",
    "</div>\n"
   ]
  },
  {
   "cell_type": "code",
   "execution_count": null,
   "metadata": {
    "nbpresent": {
     "id": "5b9514cf-0eed-470c-9d06-78c84429957e"
    },
    "slideshow": {
     "slide_type": "slide"
    }
   },
   "outputs": [],
   "source": [
    "import seaborn as sns\n",
    "import matplotlib.pyplot as plt\n",
    "\n",
    "sns.set(style=\"darkgrid\")\n",
    "iris = sns.load_dataset(\"iris\")\n",
    "\n",
    "# Subset the iris dataset by species\n",
    "setosa = iris.query(\"species == 'setosa'\")\n",
    "virginica = iris.query(\"species == 'virginica'\")\n",
    "\n",
    "# Set up the figure\n",
    "f, ax = plt.subplots(figsize=(8, 8))\n",
    "ax.set_aspect(\"equal\")\n",
    "\n",
    "# Draw the two density plots\n",
    "ax = sns.kdeplot(setosa.sepal_width, setosa.sepal_length,\n",
    "                 cmap=\"Reds\", shade=True, shade_lowest=False)\n",
    "ax = sns.kdeplot(virginica.sepal_width, virginica.sepal_length,\n",
    "                 cmap=\"Blues\", shade=True, shade_lowest=False)\n",
    "\n",
    "# Add labels to the plot\n",
    "red = sns.color_palette(\"Reds\")[-2]\n",
    "blue = sns.color_palette(\"Blues\")[-2]\n",
    "ax.text(2.5, 8.2, \"virginica\", size=16, color=blue)\n",
    "ax.text(3.8, 4.5, \"setosa\", size=16, color=red)\n",
    "plt.show()"
   ]
  },
  {
   "cell_type": "code",
   "execution_count": null,
   "metadata": {
    "nbpresent": {
     "id": "605b2c3b-f8ef-4afd-ada8-f2344b12664b"
    }
   },
   "outputs": [],
   "source": []
  }
 ],
 "metadata": {
  "celltoolbar": "Slideshow",
  "kernelspec": {
   "display_name": "Python [conda env:beads-presentation]",
   "language": "python",
   "name": "conda-env-beads-presentation-py"
  },
  "language_info": {
   "codemirror_mode": {
    "name": "ipython",
    "version": 3
   },
   "file_extension": ".py",
   "mimetype": "text/x-python",
   "name": "python",
   "nbconvert_exporter": "python",
   "pygments_lexer": "ipython3",
   "version": "3.6.4"
  },
  "nbpresent": {
   "slides": {
    "12a67995-761c-41aa-ad86-14b5e2ecf726": {
     "id": "12a67995-761c-41aa-ad86-14b5e2ecf726",
     "prev": null,
     "regions": {
      "d43d1e38-234c-4c17-8bf0-4e79e64b5201": {
       "attrs": {
        "height": 0.8,
        "width": 0.8,
        "x": 0.1,
        "y": 0.1
       },
       "content": {
        "cell": "e332e812-b886-4b34-b568-c514b2dd972c",
        "part": "whole"
       },
       "id": "d43d1e38-234c-4c17-8bf0-4e79e64b5201"
      }
     }
    },
    "3c9a1606-f072-459a-99d8-ba083fc2d4c6": {
     "id": "3c9a1606-f072-459a-99d8-ba083fc2d4c6",
     "prev": "a745f0eb-d347-49fd-9747-c9406c4b24ad",
     "regions": {
      "4361a13a-fa5c-4f99-8446-8fd8041e1920": {
       "attrs": {
        "height": 0.4,
        "width": 0.8,
        "x": 0.1,
        "y": 0.5
       },
       "content": {
        "cell": "605b2c3b-f8ef-4afd-ada8-f2344b12664b",
        "part": "whole"
       },
       "id": "4361a13a-fa5c-4f99-8446-8fd8041e1920"
      },
      "56426cf6-c425-452a-9b6e-bb86b3197902": {
       "attrs": {
        "height": 0.8,
        "width": 0.8,
        "x": 0.1,
        "y": 0.1
       },
       "content": {
        "cell": "5b9514cf-0eed-470c-9d06-78c84429957e",
        "part": "whole"
       },
       "id": "56426cf6-c425-452a-9b6e-bb86b3197902"
      }
     }
    },
    "88310905-377b-4e3b-b256-f68fb239b66a": {
     "id": "88310905-377b-4e3b-b256-f68fb239b66a",
     "prev": null,
     "regions": {
      "e57d7ebf-edec-4d80-92f9-9731c1f2aa01": {
       "attrs": {
        "height": 0.8,
        "width": 0.8,
        "x": 0.1,
        "y": 0.1
       },
       "content": {
        "cell": "e332e812-b886-4b34-b568-c514b2dd972c",
        "part": "whole"
       },
       "id": "e57d7ebf-edec-4d80-92f9-9731c1f2aa01"
      }
     }
    },
    "a745f0eb-d347-49fd-9747-c9406c4b24ad": {
     "id": "a745f0eb-d347-49fd-9747-c9406c4b24ad",
     "prev": "88310905-377b-4e3b-b256-f68fb239b66a",
     "regions": {
      "49a4811e-9042-4dc8-a22a-145ca1cd939d": {
       "attrs": {
        "height": 1,
        "width": 1,
        "x": 0,
        "y": 0
       },
       "id": "49a4811e-9042-4dc8-a22a-145ca1cd939d"
      }
     }
    },
    "de467a43-2309-4359-9f60-80fbc9a6dc17": {
     "id": "de467a43-2309-4359-9f60-80fbc9a6dc17",
     "prev": "12a67995-761c-41aa-ad86-14b5e2ecf726",
     "regions": {
      "189b4c4f-12b7-490b-a41f-d66dc26c70a1": {
       "attrs": {
        "height": 0.8,
        "width": 0.8,
        "x": 0.1,
        "y": 0.1
       },
       "content": {
        "cell": "5b9514cf-0eed-470c-9d06-78c84429957e",
        "part": "whole"
       },
       "id": "189b4c4f-12b7-490b-a41f-d66dc26c70a1"
      },
      "51a4da63-687a-4dfa-82e2-f2671bc44d41": {
       "attrs": {
        "height": 0.4,
        "width": 0.8,
        "x": 0.1,
        "y": 0.5
       },
       "content": {
        "cell": "605b2c3b-f8ef-4afd-ada8-f2344b12664b",
        "part": "whole"
       },
       "id": "51a4da63-687a-4dfa-82e2-f2671bc44d41"
      }
     }
    }
   },
   "themes": {
    "default": "ceb21133-a7bd-4238-ba81-6cc35d4bf708",
    "theme": {
     "ceb21133-a7bd-4238-ba81-6cc35d4bf708": {
      "backgrounds": {
       "dc7afa04-bf90-40b1-82a5-726e3cff5267": {
        "background-color": "31af15d2-7e15-44c5-ab5e-e04b16a89eff",
        "id": "dc7afa04-bf90-40b1-82a5-726e3cff5267"
       }
      },
      "id": "ceb21133-a7bd-4238-ba81-6cc35d4bf708",
      "palette": {
       "19cc588f-0593-49c9-9f4b-e4d7cc113b1c": {
        "id": "19cc588f-0593-49c9-9f4b-e4d7cc113b1c",
        "rgb": [
         252,
         252,
         252
        ]
       },
       "31af15d2-7e15-44c5-ab5e-e04b16a89eff": {
        "id": "31af15d2-7e15-44c5-ab5e-e04b16a89eff",
        "rgb": [
         68,
         68,
         68
        ]
       },
       "50f92c45-a630-455b-aec3-788680ec7410": {
        "id": "50f92c45-a630-455b-aec3-788680ec7410",
        "rgb": [
         197,
         226,
         245
        ]
       },
       "c5cc3653-2ee1-402a-aba2-7caae1da4f6c": {
        "id": "c5cc3653-2ee1-402a-aba2-7caae1da4f6c",
        "rgb": [
         43,
         126,
         184
        ]
       },
       "efa7f048-9acb-414c-8b04-a26811511a21": {
        "id": "efa7f048-9acb-414c-8b04-a26811511a21",
        "rgb": [
         25.118061674008803,
         73.60176211453744,
         107.4819383259912
        ]
       }
      },
      "rules": {
       "a": {
        "color": "19cc588f-0593-49c9-9f4b-e4d7cc113b1c"
       },
       "blockquote": {
        "color": "50f92c45-a630-455b-aec3-788680ec7410",
        "font-size": 3
       },
       "code": {
        "font-family": "Anonymous Pro"
       },
       "h1": {
        "color": "19cc588f-0593-49c9-9f4b-e4d7cc113b1c",
        "font-family": "Merriweather",
        "font-size": 8
       },
       "h2": {
        "color": "19cc588f-0593-49c9-9f4b-e4d7cc113b1c",
        "font-family": "Merriweather",
        "font-size": 6
       },
       "h3": {
        "color": "50f92c45-a630-455b-aec3-788680ec7410",
        "font-family": "Lato",
        "font-size": 5.5
       },
       "h4": {
        "color": "c5cc3653-2ee1-402a-aba2-7caae1da4f6c",
        "font-family": "Lato",
        "font-size": 5
       },
       "h5": {
        "font-family": "Lato"
       },
       "h6": {
        "font-family": "Lato"
       },
       "h7": {
        "font-family": "Lato"
       },
       "li": {
        "color": "50f92c45-a630-455b-aec3-788680ec7410",
        "font-size": 3.25
       },
       "pre": {
        "font-family": "Anonymous Pro",
        "font-size": 4
       }
      },
      "text-base": {
       "color": "19cc588f-0593-49c9-9f4b-e4d7cc113b1c",
       "font-family": "Lato",
       "font-size": 4
      }
     }
    }
   }
  }
 },
 "nbformat": 4,
 "nbformat_minor": 2
}
