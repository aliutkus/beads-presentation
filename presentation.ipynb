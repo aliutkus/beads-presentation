{
 "cells": [
  {
   "cell_type": "markdown",
   "metadata": {
    "hide_input": false,
    "slideshow": {
     "slide_type": "slide"
    }
   },
   "source": [
    "# Audio source separation with magnitude priors: the BEADS model \n",
    "\n",
    "## Antoine Liutkus$^1$, Christian Rohlfing$^2$, Antoine Deleforge$^3$\n",
    "\n",
    "$^1$ Zenith team, Inria, University of Montpellier, France<p>\n",
    "$^2$ RWTH, Aachen University, Germany<p>\n",
    "$^3$ RWTH, Aachen University, Germany<p>\n",
    "\n",
    "<div id=\"banner\">\n",
    "    <div class=\"inline-block\">\n",
    "        <img src =\"figures/inria.png\" style=\"width:10em\">\n",
    "    </div>\n",
    "    <div class=\"inline-block\">\n",
    "        <img src=\"figures/rwth.svg\" style=\"width:10em\">\n",
    "    </div>\n",
    "    <div class=\"inline-block\">\n",
    "        <img src=\"figures/zenith.jpg\" style=\"width:10em\">\n",
    "    </div>\n",
    "</div>\n"
   ]
  },
  {
   "cell_type": "code",
   "execution_count": 6,
   "metadata": {
    "slideshow": {
     "slide_type": "slide"
    }
   },
   "outputs": [
    {
     "name": "stdout",
     "output_type": "stream",
     "text": [
      "[[-1.51915242  0.02041844 -0.13334869]\n",
      " [ 0.2212191   1.25832738  2.73763902]\n",
      " [-0.41635394  0.74133534  0.73985148]]\n"
     ]
    }
   ],
   "source": [
    "import numpy as np\n",
    "print(np.random.randn(3,3))"
   ]
  },
  {
   "cell_type": "code",
   "execution_count": null,
   "metadata": {},
   "outputs": [],
   "source": []
  }
 ],
 "metadata": {
  "celltoolbar": "Slideshow",
  "kernelspec": {
   "display_name": "Python 3",
   "language": "python",
   "name": "python3"
  },
  "language_info": {
   "codemirror_mode": {
    "name": "ipython",
    "version": 3
   },
   "file_extension": ".py",
   "mimetype": "text/x-python",
   "name": "python",
   "nbconvert_exporter": "python",
   "pygments_lexer": "ipython3",
   "version": "3.6.3"
  }
 },
 "nbformat": 4,
 "nbformat_minor": 2
}
