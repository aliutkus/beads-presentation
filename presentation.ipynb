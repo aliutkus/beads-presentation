{
 "cells": [
  {
   "cell_type": "code",
   "execution_count": null,
   "metadata": {
    "hide_input": true,
    "scrolled": true
   },
   "outputs": [],
   "source": [
    "%reset -f\n",
    "\n",
    "# Configure matlotlib under the `notebook` setting and initialize figure size\n",
    "import ipympl\n",
    "import matplotlib\n",
    "from matplotlib import cm\n",
    "import seaborn\n",
    "\n",
    "from matplotlib import pyplot as plt\n",
    "#%matplotlib notebook\n",
    "matplotlib.rcParams['figure.figsize'] = (14,7)\n",
    "matplotlib.rcParams['figure.max_open_warning'] = -1\n",
    "matplotlib.rcParams['figure.titlesize'] = 0\n",
    "matplotlib.rcParams['toolbar'] = 'none'\n",
    "plt.close('all')\n",
    "\n",
    "# Do the imports\n",
    "import ipywidgets\n",
    "from src.beads import *\n",
    "\n",
    "# Initialize the canvas\n",
    "canvas_small = Canvas(-20,20,200, -10, 10, 100)\n",
    "canvas_big = Canvas(-40,40,200, -20, 20, 200)\n",
    "canvas_square = Canvas(-30,30,200, -30, 30, 200)\n",
    "\n",
    "# Initialize the number of sources\n",
    "cmaps = [getattr(cm, c) for c in ['Reds', 'Blues', 'Purples']]\n",
    "\n",
    "ns = len(cmaps)\n",
    "C = 10\n",
    "\n",
    "from IPython.core.display import HTML\n",
    "HTML(\"\"\"\n",
    "<style>\n",
    ".output_wrapper button.btn.btn-default,\n",
    ".output_wrapper .ui-dialog-titlebar {\n",
    "  display: none;\n",
    "}\n",
    "</style>\"\"\")"
   ]
  },
  {
   "cell_type": "markdown",
   "metadata": {
    "hide_input": false,
    "slideshow": {
     "slide_type": "slide"
    }
   },
   "source": [
    "# Audio source separation with magnitude priors: the BEADS model \n",
    "\n",
    "## Antoine Liutkus$^1$, Christian Rohlfing$^2$, Antoine Deleforge$^3$\n",
    "\n",
    "$^1$ Zenith team, Inria, University of Montpellier, France<p>\n",
    "$^2$ RWTH, Aachen University, Germany<p>\n",
    "$^3$ Inria Rennes - Bretagne Atlantique, France<p>\n",
    "\n",
    "<div class=\"inline-block\">\n",
    "    <img src=\"figures/zenith.jpg\" style=\"height:3em; margin-top:5em\">\n",
    "</div>\n",
    "<div class=\"inline-block\">\n",
    "    <img src =\"figures/inria.png\" style=\"height:3em\">\n",
    "</div>\n",
    "<div class=\"inline-block\">\n",
    "    <img src=\"figures/rwth.svg\" style=\"height:3em\">\n",
    "</div>\n",
    "<div class=\"inline-block\">\n",
    "    <img src=\"figures/anr.png\" style=\"height:3em\">\n",
    "</div>\n",
    "</div>\n"
   ]
  },
  {
   "cell_type": "markdown",
   "metadata": {
    "slideshow": {
     "slide_type": "slide"
    }
   },
   "source": [
    "# Context\n",
    "\n",
    "## Separation of complex random variables"
   ]
  },
  {
   "cell_type": "markdown",
   "metadata": {
    "slideshow": {
     "slide_type": "slide"
    }
   },
   "source": [
    "# The source separation problem \n",
    "For each Time-Frequency bin, the mixture is the sum of sources $x=\\sum_j s_j$"
   ]
  },
  {
   "cell_type": "code",
   "execution_count": null,
   "metadata": {
    "hide_input": true,
    "scrolled": false
   },
   "outputs": [],
   "source": [
    "fig1, ax1 = canvas_small.fig()\n",
    "\n",
    "global radius, true_sources, sigmas, colors, mix\n",
    "true_sources = []\n",
    "radius = []\n",
    "sigmas = []\n",
    "mix=0\n",
    "\n",
    "def get_sources(event):\n",
    "    global radius, true_sources, sigmas, colors, mix, sources_lgm, mix_lgm, sources_donut\n",
    "    if len(radius) == ns:\n",
    "        canvas_big.clear(ax1)\n",
    "        current = 0\n",
    "        handles = []\n",
    "        for j, (true_source, color) in enumerate(zip(true_sources, cmaps)):\n",
    "            handles += [Canvas.arrow(ax1, current, true_source,  linewidth=3, color=color(200))]\n",
    "            current += true_source\n",
    "        handles += [Canvas.arrow(ax1, 0, current, linewidth=4, color='black')]\n",
    "        ax1.legend(handles, ['$s_%d$'%j for j in range(ns)]+['mix'],fontsize=12)\n",
    "        \n",
    "        # defining the LGM and donut model according to the selected configuration\n",
    "        sources_lgm = [Beads(0,0, b**2*2/np.pi,1) for b in radius]\n",
    "        mix_lgm = GMM.product(sources_lgm)\n",
    "        sources_donut = [Donut(0,r,sigma) for (r,sigma) in zip(radius,sigmas)]\n",
    "\n",
    "        return\n",
    "    canvas_small.clear(ax1)\n",
    "    x = event.xdata+1j*event.ydata\n",
    "    true_sources += [x]\n",
    "    mix += x\n",
    "    radius += [np.abs(x)]\n",
    "    sigmas += [max(np.abs(x)/10,1.5)**2]#2*np.pi*np.abs(x)/C/2)**2]\n",
    "    handles = []\n",
    "    for j,(true_source, color) in enumerate(zip(true_sources, cmaps)):\n",
    "        handles += [Canvas.arrow(ax1, 0, true_source, linewidth=3, color=color(200))]\n",
    "    ax1.legend(handles, ['$s_%d$'%j for j in range(ns)], fontsize=12)\n",
    "    \n",
    "cid = fig1.canvas.mpl_connect('button_press_event', get_sources)"
   ]
  },
  {
   "cell_type": "markdown",
   "metadata": {
    "slideshow": {
     "slide_type": "slide"
    }
   },
   "source": [
    "# Typical separation pipeline\n",
    "\n",
    "<img src=\"figures/source_separation_pipeline.svg\" style=\"height:10em\">\n",
    "\n",
    "## In this talk\n",
    "* __Filtering__ from magnitude estimates $b_j>0$ to separated signals $s_j\\in\\mathbb{C}$ \n",
    "* Tractable model for __complex variables $s_j$ with (approximately) known magnitude $b_j$__\n",
    "\n",
    "## In the paper\n",
    "* The multichannel case\n",
    "* Evaluation for audio coding"
   ]
  },
  {
   "cell_type": "markdown",
   "metadata": {
    "slideshow": {
     "slide_type": "slide"
    }
   },
   "source": [
    "The classical Gaussian model $s_j\\sim\\mathcal{N}\\left(0, \\frac{2}{\\pi}b_j^2\\right)$ matches the prior $\\mathbb{E}\\left[\\left|s_j\\right|\\right]=b_j$"
   ]
  },
  {
   "cell_type": "code",
   "execution_count": null,
   "metadata": {
    "hide_input": true,
    "scrolled": false
   },
   "outputs": [],
   "source": [
    "fig_lgm, ax_lgm = canvas_big.fig()\n",
    "sources_lgm[0].contour(canvas=canvas_big, ax=ax_lgm, nlines=50, cmap=cmaps[0])\n",
    "arrow_h=Canvas.arrow(ax_lgm, 0, true_sources[0],  linewidth=3, color=cmaps[0](200), zorder=100)"
   ]
  },
  {
   "cell_type": "markdown",
   "metadata": {
    "slideshow": {
     "slide_type": "fragment"
    }
   },
   "source": [
    "$\\Rightarrow$ Highest probability mass on 0"
   ]
  },
  {
   "cell_type": "markdown",
   "metadata": {
    "slideshow": {
     "slide_type": "slide"
    }
   },
   "source": [
    "The mixture is Gaussian $x\\sim\\mathcal{N}\\left(0,\\sum_j b_j^2\\right)$, sources are recovered as: $s\\mid x\\sim \\mathcal{N}\\left(\\frac{b^2_j}{\\sum b^2} x, \\sigma_j^2\\left(1 - \\frac{b_j^2}{\\sum b^2}\\right)\\right)$"
   ]
  },
  {
   "cell_type": "code",
   "execution_count": null,
   "metadata": {
    "hide_input": true,
    "scrolled": false
   },
   "outputs": [],
   "source": [
    "fig_lgmdemo, ax_lgmdemo = canvas_big.fig()\n",
    "\n",
    "x = mix\n",
    "for (true_source, rad, sig, cmap) in zip(true_sources, radius, sigmas, cmaps):\n",
    "    Canvas.circle(ax_lgmdemo, 0, rad,  color=cmap(200), linewidth=3, alpha=0.2, fill=False,linestyle=\"--\")   \n",
    "def lgm_demo(event):\n",
    "    canvas_big.clear(ax_lgmdemo)\n",
    "    if event.inaxes is None:\n",
    "        x = mix\n",
    "        for (true_source, cmap) in zip(true_sources, cmaps):\n",
    "            Canvas.arrow(ax_lgmdemo, 0, true_source, color=cmap(200), alpha=0.2, linewidth=3)\n",
    "    else:\n",
    "        x = event.xdata+1j*event.ydata\n",
    "\n",
    "    sources_post = [s.post(mix_lgm,x) for s in sources_lgm]\n",
    "    \n",
    "    for (true_source, rad, sig, cmap) in zip(true_sources, radius, sigmas, cmaps):\n",
    "        Canvas.circle(ax_lgmdemo, 0, rad,  color=cmap(200), linewidth=3, alpha=0.2, fill=False,linestyle=\"--\")   \n",
    "    if event.inaxes is not None or event.button==3:\n",
    "        for (spost, cmap) in zip(sources_post, cmaps):\n",
    "            spost.plot(canvas_big, ax_lgmdemo, cmap(200))\n",
    "    Canvas.arrow(ax_lgmdemo, 0, x, linewidth=3, facecolor=\"black\")\n",
    "\n",
    "cid = fig_lgmdemo.canvas.mpl_connect('button_press_event', lgm_demo)\n"
   ]
  },
  {
   "cell_type": "markdown",
   "metadata": {
    "hide_input": false,
    "slideshow": {
     "slide_type": "fragment"
    }
   },
   "source": [
    "$\\Rightarrow$ Aligned estimated sources, magnitudes inconsistent with prior<p>\n",
    "$\\Rightarrow$ Over-estimate the strongest source, under-estimate the others<p>\n",
    "$\\Rightarrow$ Uncertainty independent of the mixture"
   ]
  },
  {
   "cell_type": "markdown",
   "metadata": {
    "slideshow": {
     "slide_type": "slide"
    }
   },
   "source": [
    "Another classical solution: magnitude ratios:\n",
    "$\\hat{s}_j=\\frac{b_j}{\\sum b}x$"
   ]
  },
  {
   "cell_type": "code",
   "execution_count": null,
   "metadata": {
    "hide_input": true,
    "scrolled": false
   },
   "outputs": [],
   "source": [
    "fig_magdemo, ax_magdemo = canvas_big.fig()\n",
    "x = mix\n",
    "for (true_source, rad, sig, cmap) in zip(true_sources, radius, sigmas, cmaps):\n",
    "    Canvas.circle(ax_magdemo, 0, rad,  color=cmap(200), linewidth=3, alpha=0.2, fill=False, linestyle=\"--\")   \n",
    "\n",
    "def mag_demo(event):\n",
    "    canvas_big.clear(ax_magdemo)\n",
    "    if event.inaxes is None:\n",
    "        x = mix\n",
    "        for (true_source, cmap) in zip(true_sources, cmaps):\n",
    "            Canvas.arrow(ax_magdemo, 0, true_source, color=cmap(200), alpha=0.2, linewidth=3)\n",
    "    else:\n",
    "        x = event.xdata+1j*event.ydata\n",
    "\n",
    "    gains = radius/np.sum(radius)\n",
    "    sources_post = [Bead(gain*x, None) for gain in gains]\n",
    "    \n",
    "    for (true_source, rad, sig, cmap) in zip(true_sources, radius, sigmas, cmaps):\n",
    "        Canvas.circle(ax_magdemo, 0, rad,  color=cmap(200), linewidth=3, fill=False, alpha=0.2, linestyle=\"--\")   \n",
    "    if event.inaxes is not None or event.button==3:\n",
    "        for (spost, cmap) in zip(sources_post, cmaps):\n",
    "            spost.plot(canvas_big, ax_magdemo, cmap(200))\n",
    "    Canvas.arrow(ax_magdemo, 0, x, linewidth=3, facecolor=\"black\")\n",
    "\n",
    "cid = fig_magdemo.canvas.mpl_connect('button_press_event', mag_demo)\n"
   ]
  },
  {
   "cell_type": "markdown",
   "metadata": {
    "slideshow": {
     "slide_type": "fragment"
    }
   },
   "source": [
    "$\\Rightarrow$ More balanced source estimates<p>\n",
    "$\\Rightarrow$ Still estimating aligned sources rather than complying with the magnitude prior<p>\n",
    "$\\Rightarrow$ No tractable uncertainty "
   ]
  },
  {
   "cell_type": "markdown",
   "metadata": {
    "slideshow": {
     "slide_type": "slide"
    }
   },
   "source": [
    "# An ideal model\n",
    "\n",
    "## The donut-shaped distribution"
   ]
  },
  {
   "cell_type": "markdown",
   "metadata": {
    "slideshow": {
     "slide_type": "slide"
    }
   },
   "source": [
    "## Objective\n",
    "What do we want of a probabilistic model for a complex random variable with (approximately) known magnitude?"
   ]
  },
  {
   "cell_type": "code",
   "execution_count": null,
   "metadata": {
    "hide_input": true,
    "scrolled": false,
    "slideshow": {
     "slide_type": "-"
    }
   },
   "outputs": [],
   "source": [
    "fig_donut, ax_donut = canvas_big.fig()\n",
    "arrow_h=Canvas.arrow(ax_donut, 0, radius[0],  linewidth=3, color=cmaps[0](200))\n",
    "points = []\n",
    "\n",
    "def donut_intro_callback(event):\n",
    "    global points\n",
    "    plot_donut = False\n",
    "    if event.inaxes is None:\n",
    "        # reinitializes points\n",
    "        points = []\n",
    "    else:\n",
    "        if event.button == 1:\n",
    "            n = 1 if len(points)<5 else 10\n",
    "            points = np.concatenate((points, sources_donut[0].draw(n)))\n",
    "        else:\n",
    "            plot_donut = True\n",
    "            \n",
    "    canvas_big.clear(ax_donut)\n",
    "    ax_donut.plot(np.real(points), np.imag(points),'o', color=cmaps[0](200), markersize=8)\n",
    "\n",
    "    if plot_donut:\n",
    "        sources_donut[0].contour(canvas_big, ax_donut, cmap=cmaps[0], nlines=10)\n",
    "    else:\n",
    "        Canvas.arrow(ax_donut, 0, radius[0],  linewidth=3, color=cmaps[0](200))\n",
    "\n",
    "\n",
    "cid = fig_donut.canvas.mpl_connect('button_press_event', donut_intro_callback)\n"
   ]
  },
  {
   "cell_type": "markdown",
   "metadata": {
    "slideshow": {
     "slide_type": "slide"
    }
   },
   "source": [
    "## The Donut distribution for modeling the sources"
   ]
  },
  {
   "cell_type": "code",
   "execution_count": null,
   "metadata": {
    "hide_input": true,
    "scrolled": false
   },
   "outputs": [],
   "source": [
    "fig_sourcesdonut, ax_sourcesdonut = canvas_big.fig()\n",
    "canvas_big.clear(ax_sourcesdonut)\n",
    "for (sdonut,cmap) in zip(sources_donut, cmaps):\n",
    "    sdonut.contour(canvas_big, ax_sourcesdonut, nlines=20, cmap=cmap)\n",
    "handles = []\n",
    "for (true_source, cmap) in zip(true_sources, cmaps):\n",
    "    handles += [Canvas.arrow(ax_sourcesdonut, 0, true_source, facecolor=cmap(200), linewidth=3, zorder=1000, edgecolor='black')]\n",
    "ax_sourcesdonut.legend(handles, ['$s_%d$'%j for j in range(ns)], fontsize=12)\n",
    "plt.show()"
   ]
  },
  {
   "cell_type": "markdown",
   "metadata": {
    "hide_input": true,
    "slideshow": {
     "slide_type": "fragment"
    }
   },
   "source": [
    "$\\Rightarrow$ No model for the sum of donut variables<p>\n",
    "$\\Rightarrow$ No easy way for separation: $\\mathbb{P}\\left[s\\mid x\\right]$ non tractable"
   ]
  },
  {
   "cell_type": "markdown",
   "metadata": {
    "slideshow": {
     "slide_type": "slide"
    }
   },
   "source": [
    "## **BEADS** Bayesian Expansion to Approximate the Donut Shape"
   ]
  },
  {
   "cell_type": "code",
   "execution_count": null,
   "metadata": {
    "hide_input": true,
    "scrolled": false
   },
   "outputs": [],
   "source": [
    "fig_beadsintro, ax_beadsintro = canvas_small.fig()\n",
    "len_canvas = canvas_small.maxx - canvas_small.minx\n",
    "mu_beadsintro = canvas_small.minx+len_canvas*3/4\n",
    "sigma_beadsintro = len_canvas*0.05\n",
    "rad_beadsintro = len_canvas*0.22\n",
    "donutintro = Donut(canvas_small.minx+len_canvas/4, rad_beadsintro, sigma_beadsintro)\n",
    "\n",
    "cintro = 3\n",
    "cmap = cm.get_cmap('Reds')\n",
    "\n",
    "donutintro.contour(canvas_small, ax_beadsintro, cmap=cmap, nlines=10)\n",
    "def beads_intro_callback(event):\n",
    "    global cintro\n",
    "    if event.inaxes is None:\n",
    "        cintro = 3\n",
    "    else:\n",
    "        cintro += 1\n",
    "    \n",
    "    if cintro == 3:\n",
    "        beadsintro = Bead(mu_beadsintro, rad_beadsintro**2)\n",
    "    else:\n",
    "        beadsintro = Beads(mu_beadsintro, rad_beadsintro, sigma_beadsintro,cintro)\n",
    "        \n",
    "    canvas_small.clear(ax_beadsintro)\n",
    "    donutintro.contour(canvas_small, ax_beadsintro, cmap=cmap, nlines=10)\n",
    "    beadsintro.contour(canvas_small, ax_beadsintro, cmap=cmap, nlines=10)\n",
    "\n",
    "cid = fig_beadsintro.canvas.mpl_connect('button_press_event', beads_intro_callback)"
   ]
  },
  {
   "cell_type": "markdown",
   "metadata": {
    "slideshow": {
     "slide_type": "fragment"
    }
   },
   "source": [
    "Sources distribution as a Gaussian Mixture Model: $P\\left[s_j\\right] = \\sum_c \\pi[c] \\mathcal{N}\\left(s_j\\mid b_j \\omega^c, \\sigma_j\\right)$<p>\n",
    "$\\Rightarrow$ Only two parameters: $b_j$ and $\\sigma_j$"
   ]
  },
  {
   "cell_type": "markdown",
   "metadata": {
    "hide_input": true,
    "slideshow": {
     "slide_type": "slide"
    }
   },
   "source": [
    "## Summing beads random variables\n",
    "BEADS model for the sources $\\Rightarrow$ Gaussian Mixture Model for the mixture"
   ]
  },
  {
   "cell_type": "code",
   "execution_count": null,
   "metadata": {
    "hide_input": true,
    "scrolled": false
   },
   "outputs": [],
   "source": [
    "sources_beads = None\n",
    "mix_beads = None\n",
    "\n",
    "fig_beadssources, ax_beadssources = canvas_square.fig(2)\n",
    "for (sdonut,cmap) in zip(sources_donut, cmaps):\n",
    "    sdonut.contour(canvas_square, ax_beadssources[0], nlines=20, cmap=cmap)\n",
    "C = 10\n",
    "ax_beadssources[0].set_title('Sources distributions')\n",
    "ax_beadssources[1].set_title('Mixture distribution')\n",
    "\n",
    "def beads_intro_callback(event):\n",
    "    global C, sources_beads, mix_beads\n",
    "    if event.inaxes is None:\n",
    "        sources_beads = None\n",
    "        mix_beads = None\n",
    "        C = 12\n",
    "    else:\n",
    "        r_sum = np.sum(radius)\n",
    "        Cs = [max(1,int(C*r/r_sum)) for r in radius]\n",
    "        sigmas = [(2*np.pi*r/c/2)**2 for (r,c) in zip(radius, Cs)]\n",
    "        sources_beads = [Beads(0,b,sigma,c) if c>1 else Beads(0, 0, b**2,1) for (b,sigma,c) in zip(radius,sigmas, Cs)]\n",
    "        mix_beads = GMM.product(sources_beads)\n",
    "        C += 3\n",
    "      \n",
    "    canvas_square.clear(ax_beadssources)\n",
    "    if sources_beads is None:\n",
    "        for (sdonut,cmap) in zip(sources_donut, cmaps):\n",
    "            sdonut.contour(canvas_square, ax_beadssources[0], nlines=20, cmap=cmap)\n",
    "    else:\n",
    "        for (sbeads,cmap) in zip(sources_beads, cmaps):\n",
    "            sbeads.contour(canvas_square, ax_beadssources[0], nlines=20, cmap=cmap)\n",
    "        mix_beads.contour(canvas_square, ax_beadssources[1], nlines=50, cmap=getattr(cm, 'Greens'))\n",
    "    ax_beadssources[0].set_title('Sources distributions')\n",
    "    ax_beadssources[1].set_title('Mixture distribution')\n",
    "        \n",
    "cid = fig_beadssources.canvas.mpl_connect('button_press_event', beads_intro_callback)"
   ]
  },
  {
   "cell_type": "markdown",
   "metadata": {
    "hide_input": true,
    "slideshow": {
     "slide_type": "slide"
    }
   },
   "source": [
    "The sources are estimated through Bayes theorem as $\\mathbb{P}\\left[s\\mid x\\right]=\\sum_c \\pi(c\\mid x)\\mathcal{N}(s\\mid \\mu_{c\\mid x}, \\sigma_{\\mid x})$"
   ]
  },
  {
   "cell_type": "code",
   "execution_count": null,
   "metadata": {
    "hide_input": true,
    "scrolled": false
   },
   "outputs": [],
   "source": [
    "fig_beadsdemo, ax_beadsdemo = canvas_big.fig()\n",
    "\n",
    "x = mix\n",
    "for (true_source, rad, sig, cmap) in zip(true_sources, radius, sigmas, cmaps):\n",
    "    Canvas.arrow(ax_beadsdemo, 0, true_source, color=cmap(200), alpha=0.8, linewidth=3)\n",
    "    Canvas.circle(ax_beadsdemo, 0, rad,  color=cmap(200), linewidth=3, alpha=0.2, fill=False, linestyle=\"--\")   \n",
    "Canvas.arrow(ax_beadsdemo, 0, mix, linewidth=3, facecolor=\"black\")\n",
    "\n",
    "def beads_demo(event):\n",
    "    canvas_big.clear(ax_beadsdemo)\n",
    "    if event.inaxes is None:\n",
    "        x = mix\n",
    "        for (true_source, cmap) in zip(true_sources, cmaps):\n",
    "            Canvas.arrow(ax_beadsdemo, 0, true_source, color=cmap(200), alpha=0.8, linewidth=3, zorder=10000)\n",
    "    else:\n",
    "        x = event.xdata+1j*event.ydata\n",
    "\n",
    "    sources_post = [s.post(mix_beads,x) for s in sources_beads]\n",
    "    \n",
    "    for (true_source, rad, sig, cmap) in zip(true_sources, radius, sigmas, cmaps):\n",
    "        Canvas.circle(ax_beadsdemo, 0, rad,  color=cmap(200), linewidth=3, alpha=0.2, fill=False, linestyle=\"--\")   \n",
    "\n",
    "    for (spost, cmap) in zip(sources_post, cmaps):\n",
    "        spost.contour(canvas_big, ax_beadsdemo, nlines=10, cmap=cmap)\n",
    "    Canvas.arrow(ax_beadsdemo, 0, x, linewidth=3, facecolor=\"black\")\n",
    "\n",
    "cid = fig_beadsdemo.canvas.mpl_connect('button_press_event', beads_demo)"
   ]
  },
  {
   "cell_type": "markdown",
   "metadata": {},
   "source": [
    "* Estimates consistent with the magnitude prior\n",
    "* Uncertainty is mix-dependent\n",
    "* Posterior is tractable"
   ]
  },
  {
   "cell_type": "markdown",
   "metadata": {
    "slideshow": {
     "slide_type": "slide"
    }
   },
   "source": [
    "# Conclusion: The beads model\n",
    "\n",
    "## Core advantages\n",
    "* Complex random variables with approximately known magnitudes\n",
    "* Sums of beads sources is a GMM\n",
    "* Separation is easy as GMM inference\n",
    "\n",
    "## To go further\n",
    "* Generalizes easily to multichannel\n",
    "* Shared variances for the beads $\\Rightarrow$ computational savings\n",
    "\n",
    "## Source code for this presentation\n",
    "[https://github.com/aliutkus/beads-presentation](https://github.com/aliutkus/beads-presentation)"
   ]
  }
 ],
 "metadata": {
  "celltoolbar": "Slideshow",
  "kernelspec": {
   "display_name": "Python [conda env:beads-presentation]",
   "language": "python",
   "name": "conda-env-beads-presentation-py"
  },
  "language_info": {
   "codemirror_mode": {
    "name": "ipython",
    "version": 3
   },
   "file_extension": ".py",
   "mimetype": "text/x-python",
   "name": "python",
   "nbconvert_exporter": "python",
   "pygments_lexer": "ipython3",
   "version": "3.6.4"
  },
  "livereveal": {
   "auto_select": "code",
   "center": false,
   "controls": false,
   "theme": "serif",
   "transition": "zoom"
  }
 },
 "nbformat": 4,
 "nbformat_minor": 2
}
